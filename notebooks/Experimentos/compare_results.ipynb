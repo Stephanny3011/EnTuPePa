{
 "cells": [
  {
   "cell_type": "code",
   "execution_count": null,
   "id": "30edaeb0",
   "metadata": {},
   "outputs": [],
   "source": [
    "# ======================================================\n",
    "# 📊 COMPARACIÓN FINAL DE VARIANTES BETO – SPRINT 2\n",
    "# ======================================================\n",
    "# Objetivo: Visualizar diferencias entre Baseline, Var1 y Var2\n",
    "# ------------------------------------------------------\n",
    "\n",
    "import pandas as pd, matplotlib.pyplot as plt\n",
    "\n",
    "df = pd.read_csv(\"../../logs/Experimentos/metrics_experimentos.csv\",\n",
    "                 names=[\"Variante\",\"Accuracy\",\"F1\",\"LR\",\"MaxLen\",\"Tiempo\"])\n",
    "print(df)\n",
    "\n",
    "# Tabla comparativa\n",
    "df_sorted = df.sort_values(\"F1\", ascending=False)\n",
    "df_sorted.to_csv(\"../../results/tabla_comparativa.csv\", index=False)\n",
    "print(\"✅ Tabla guardada en results/tabla_comparativa.csv\")\n",
    "\n",
    "# Gráfico de barras\n",
    "plt.figure(figsize=(6,4))\n",
    "plt.bar(df_sorted[\"Variante\"], df_sorted[\"F1\"], color=[\"gray\",\"skyblue\",\"royalblue\"])\n",
    "plt.title(\"Comparativa F1: Baseline vs Var1 vs Var2\")\n",
    "plt.ylabel(\"F1 (macro)\")\n",
    "plt.savefig(\"../../results/f1_bar.png\")\n",
    "plt.show()\n"
   ]
  }
 ],
 "metadata": {
  "language_info": {
   "name": "python"
  }
 },
 "nbformat": 4,
 "nbformat_minor": 5
}
