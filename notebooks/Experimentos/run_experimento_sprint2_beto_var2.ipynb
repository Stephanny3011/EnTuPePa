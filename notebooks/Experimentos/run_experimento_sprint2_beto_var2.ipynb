{
 "cells": [
  {
   "cell_type": "markdown",
   "id": "bcb6b2cc",
   "metadata": {},
   "source": [
    "⚙️ Descripción\n",
    "\n",
    "Var2 amplía el contexto semántico de las secuencias (max_length de 128 → 256).\n",
    "\n",
    "Analiza si un mayor contexto mejora la F1 o PR-AUC a cambio de mayor costo computacional."
   ]
  },
  {
   "cell_type": "code",
   "execution_count": 1,
   "id": "6c8929cf",
   "metadata": {},
   "outputs": [
    {
     "name": "stdout",
     "output_type": "stream",
     "text": [
      "Configuración actual var 1:\n",
      "  variant_name: var2\n",
      "  mode: multi\n",
      "  seed: 42\n",
      "  num_train_epochs: 3\n",
      "  learning_rate: 2e-05\n",
      "  max_length: 256\n",
      "  per_device_train_batch_size: 8\n",
      "  model_checkpoint: dccuchile/bert-base-spanish-wwm-cased\n",
      "  data_path: ../../data/raw/corpus_politico_codificado.csv\n",
      "  output_dir: ../../logs/Experimentos/\n",
      "  metrics_path: ../../logs/Experimentos/metrics_experimentos.csv\n",
      "  results_dir: ../../results/\n"
     ]
    }
   ],
   "source": [
    "# ------------------------------------------------------\n",
    "# 🧩 CONFIGURACIÓN EXPERIMENTAL SPRINT 2 - BETO\n",
    "# ------------------------------------------------------\n",
    "\n",
    "from datetime import datetime\n",
    "\n",
    "config = {\n",
    "    \"variant_name\": \"var2\",\n",
    "    \"mode\": \"multi\",\n",
    "    \"seed\": 42,\n",
    "    \"num_train_epochs\": 3,\n",
    "    \"learning_rate\": 2e-5,\n",
    "    \"max_length\": 256,  # 🔥 cambio respecto al baseline\n",
    "    \"per_device_train_batch_size\": 8,\n",
    "    \"model_checkpoint\": \"dccuchile/bert-base-spanish-wwm-cased\",\n",
    "    \"data_path\": \"../../data/raw/corpus_politico_codificado.csv\",\n",
    "    \"output_dir\": \"../../logs/Experimentos/\",\n",
    "    \"metrics_path\": \"../../logs/Experimentos/metrics_experimentos.csv\",\n",
    "    \"results_dir\": \"../../results/\"\n",
    "}\n",
    "\n",
    "\n",
    "\n",
    "# --- Visualización de configuración ---\n",
    "print(\"Configuración actual var 1:\")\n",
    "for k, v in config.items():\n",
    "    print(f\"  {k}: {v}\")\n"
   ]
  },
  {
   "cell_type": "code",
   "execution_count": null,
   "id": "1fd525a9",
   "metadata": {},
   "outputs": [],
   "source": [
    "# ------------------------------------------------------\n",
    "# 3️⃣ CARGA Y PREPARACIÓN DEL CORPUS\n",
    "# ------------------------------------------------------\n",
    "df = pd.read_csv(config[\"data_path\"])\n",
    "df = df.loc[:, ~df.columns.duplicated()]\n",
    "df.rename(columns={\"texto\": \"text\", \"etiqueta\": \"label\"}, inplace=True)\n",
    "df = df[[\"text\", \"label\"]]\n",
    "\n",
    "train_df, test_df = train_test_split(df, test_size=0.2, random_state=config[\"seed\"])\n",
    "train_dataset = Dataset.from_pandas(train_df.reset_index(drop=True))\n",
    "test_dataset = Dataset.from_pandas(test_df.reset_index(drop=True))\n",
    "\n",
    "# ------------------------------------------------------\n",
    "# 4️⃣ TOKENIZACIÓN\n",
    "# ------------------------------------------------------\n",
    "tokenizer = AutoTokenizer.from_pretrained(config[\"model_checkpoint\"])\n",
    "def tokenize(batch):\n",
    "    return tokenizer(batch[\"text\"], truncation=True, padding=\"max_length\",\n",
    "                     max_length=config[\"max_length\"])\n",
    "train_dataset = train_dataset.map(tokenize, batched=True)\n",
    "test_dataset = test_dataset.map(tokenize, batched=True)\n",
    "\n",
    "# ------------------------------------------------------\n",
    "# 5️⃣ ENTRENAMIENTO Y EVALUACIÓN\n",
    "# ------------------------------------------------------\n",
    "model = AutoModelForSequenceClassification.from_pretrained(\n",
    "    config[\"model_checkpoint\"], num_labels=len(df[\"label\"].unique())\n",
    ")\n",
    "\n",
    "acc = evaluate.load(\"accuracy\")\n",
    "f1 = evaluate.load(\"f1\")\n",
    "\n",
    "def compute_metrics(eval_pred):\n",
    "    logits, labels = eval_pred\n",
    "    preds = np.argmax(logits, axis=-1)\n",
    "    return {\n",
    "        \"accuracy\": acc.compute(predictions=preds, references=labels)[\"accuracy\"],\n",
    "        \"f1\": f1.compute(predictions=preds, references=labels, average=\"macro\")[\"f1\"],\n",
    "    }\n",
    "\n",
    "args = TrainingArguments(\n",
    "    output_dir=config[\"output_dir\"],\n",
    "    evaluation_strategy=\"epoch\",\n",
    "    per_device_train_batch_size=config[\"per_device_train_batch_size\"],\n",
    "    num_train_epochs=config[\"num_train_epochs\"],\n",
    "    learning_rate=config[\"learning_rate\"],\n",
    "    seed=config[\"seed\"],\n",
    "    logging_dir=config[\"output_dir\"],\n",
    ")\n",
    "\n",
    "trainer = Trainer(\n",
    "    model=model, args=args,\n",
    "    train_dataset=train_dataset,\n",
    "    eval_dataset=test_dataset,\n",
    "    compute_metrics=compute_metrics\n",
    ")\n",
    "\n",
    "start = time.time()\n",
    "trainer.train()\n",
    "metrics = trainer.evaluate()\n",
    "metrics[\"train_time_sec\"] = round(time.time() - start, 2)\n",
    "print(metrics)\n",
    "\n",
    "# ------------------------------------------------------\n",
    "# 6️⃣ REGISTRO DE MÉTRICAS\n",
    "# ------------------------------------------------------\n",
    "os.makedirs(os.path.dirname(config[\"metrics_path\"]), exist_ok=True)\n",
    "with open(config[\"metrics_path\"], \"a\", newline=\"\") as f:\n",
    "    writer = csv.writer(f)\n",
    "    writer.writerow([config[\"variant_name\"], metrics[\"eval_accuracy\"],\n",
    "                     metrics[\"eval_f1\"], config[\"learning_rate\"],\n",
    "                     config[\"max_length\"], metrics[\"train_time_sec\"]])\n",
    "print(\"✅ Métricas guardadas:\", config[\"metrics_path\"])"
   ]
  },
  {
   "cell_type": "code",
   "execution_count": 39,
   "id": "b07e5de8",
   "metadata": {},
   "outputs": [
    {
     "name": "stdout",
     "output_type": "stream",
     "text": [
      "✅ Entorno configurado correctamente.\n"
     ]
    }
   ],
   "source": [
    "# ------------------------------------------------------\n",
    "# 2️⃣ Importaciones y configuración inicial\n",
    "# ------------------------------------------------------\n",
    "import sys, numpy as np, pandas as pd, matplotlib.pyplot as plt\n",
    "from transformers import AutoTokenizer, AutoModel\n",
    "from datasets import Dataset\n",
    "\n",
    "# Configuración inmediata de salida (por compatibilidad con VS Code)\n",
    "print(\"✅ Entorno configurado correctamente.\")\n"
   ]
  },
  {
   "cell_type": "code",
   "execution_count": 40,
   "id": "b2bc752c",
   "metadata": {},
   "outputs": [],
   "source": [
    "from datasets import Dataset\n",
    "from sklearn.model_selection import train_test_split\n",
    "\n",
    "# Ruta del dataset (ajusta si tu estructura difiere)\n",
    "DATA_PATH = \"../data/raw/corpus_politico_codificado.csv\""
   ]
  },
  {
   "cell_type": "code",
   "execution_count": 41,
   "id": "0ee7ebc1",
   "metadata": {},
   "outputs": [
    {
     "name": "stdout",
     "output_type": "stream",
     "text": [
      "Columnas: ['text', 'label_name', 'label_id']\n",
      "\n",
      "📊 Distribución de clases:\n",
      "label_name\n",
      "logos              250\n",
      "framing_binario    250\n",
      "retorica_vacia     250\n",
      "ad_hominem         250\n",
      "Name: count, dtype: int64\n",
      "\n",
      "🔍 Muestras de texto:\n",
      "                                                  text       label_name\n",
      "548  Según el INEI, el 35% de hogares no tiene agua...            logos\n",
      "469  Ellos siempre han estado en contra del pueblo ...  framing_binario\n",
      "730     No le crean, es un ignorante sin estudios #247       ad_hominem\n",
      "320      No le crean, es un ignorante sin estudios #80       ad_hominem\n",
      "10    Juntos lograremos lo imposible con esperanza #62   retorica_vacia\n"
     ]
    }
   ],
   "source": [
    "# ------------------------------------------------------\n",
    "# 3️⃣ Lectura y exploración del corpus político\n",
    "# ------------------------------------------------------\n",
    "DATA_PATH = \"../../data/raw/corpus_politico_codificado.csv\"\n",
    "\n",
    "df = pd.read_csv(DATA_PATH)\n",
    "df = df.loc[:, ~df.columns.duplicated()]\n",
    "df.rename(columns={\"texto\": \"text\",\n",
    "                   \"etiqueta\": \"label_name\",\n",
    "                   \"label\": \"label_id\"}, inplace=True)\n",
    "\n",
    "print(\"Columnas:\", df.columns.tolist())\n",
    "print(\"\\n📊 Distribución de clases:\")\n",
    "print(df[\"label_name\"].value_counts())\n",
    "\n",
    "print(\"\\n🔍 Muestras de texto:\")\n",
    "print(df.sample(5)[[\"text\", \"label_name\"]])"
   ]
  },
  {
   "cell_type": "code",
   "execution_count": 42,
   "id": "61b81a7f",
   "metadata": {},
   "outputs": [
    {
     "name": "stdout",
     "output_type": "stream",
     "text": [
      "\n",
      "✅ Total de ejemplos tras limpieza: 1000\n"
     ]
    }
   ],
   "source": [
    "# ------------------------------------------------------\n",
    "# 4️⃣ Preprocesamiento básico\n",
    "# ------------------------------------------------------\n",
    "df[\"text\"] = df[\"text\"].astype(str).str.strip()\n",
    "df.drop_duplicates(subset=\"text\", inplace=True)\n",
    "df.reset_index(drop=True, inplace=True)\n",
    "print(f\"\\n✅ Total de ejemplos tras limpieza: {len(df)}\")"
   ]
  },
  {
   "cell_type": "code",
   "execution_count": 43,
   "id": "eb643985",
   "metadata": {},
   "outputs": [
    {
     "name": "stdout",
     "output_type": "stream",
     "text": [
      "\n",
      "🧩 Ejemplo de tokenización:\n",
      "Texto: Según el INEI, el 35% de hogares no tiene agua potable #22\n",
      "Tokens: ['[CLS]', 'Según', 'el', 'INE', '##I', ',', 'el', '35', '%', 'de', 'hogares', 'no', 'tiene', 'agua', 'potable']\n",
      "IDs: [    4  3678  1040 25031 30977  1017  1040  3754   974  1008  9296  1084\n",
      "  1512  2537 17151]\n"
     ]
    }
   ],
   "source": [
    "# ------------------------------------------------------\n",
    "# 5️⃣ Tokenización con modelo BETO\n",
    "# ------------------------------------------------------\n",
    "MODEL_NAME = \"dccuchile/bert-base-spanish-wwm-cased\"\n",
    "tokenizer = AutoTokenizer.from_pretrained(MODEL_NAME)\n",
    "\n",
    "ejemplo = df.loc[0, \"text\"]\n",
    "encoded = tokenizer(ejemplo, truncation=True,\n",
    "                    padding=\"max_length\", max_length=40,\n",
    "                    return_tensors=\"np\")\n",
    "\n",
    "print(\"\\n🧩 Ejemplo de tokenización:\")\n",
    "print(\"Texto:\", ejemplo)\n",
    "print(\"Tokens:\", tokenizer.convert_ids_to_tokens(encoded[\"input_ids\"][0][:15]))\n",
    "print(\"IDs:\", encoded[\"input_ids\"][0][:15])"
   ]
  },
  {
   "cell_type": "code",
   "execution_count": 44,
   "id": "ffcb3258",
   "metadata": {},
   "outputs": [
    {
     "name": "stdout",
     "output_type": "stream",
     "text": [
      "\n",
      "✅ Vectorización completada (media de IDs numéricos).\n"
     ]
    }
   ],
   "source": [
    "# ------------------------------------------------------\n",
    "# 6️⃣ Representación numérica (media de IDs)\n",
    "# ------------------------------------------------------\n",
    "df[\"embedding_mean\"] = df[\"text\"].apply(\n",
    "    lambda t: tokenizer(t, truncation=True, padding=\"max_length\",\n",
    "                        max_length=32, return_tensors=\"np\")[\"input_ids\"][0].mean()\n",
    ")\n",
    "\n",
    "print(\"\\n✅ Vectorización completada (media de IDs numéricos).\")"
   ]
  },
  {
   "cell_type": "code",
   "execution_count": 45,
   "id": "a92d3c70",
   "metadata": {},
   "outputs": [
    {
     "data": {
      "image/png": "[encoded data removed]",
      "text/plain": [
       "<Figure size 700x400 with 1 Axes>"
      ]
     },
     "metadata": {},
     "output_type": "display_data"
    }
   ],
   "source": [
    "# ------------------------------------------------------\n",
    "# 7️⃣ Análisis exploratorio por categoría\n",
    "# ------------------------------------------------------\n",
    "means = df.groupby(\"label_name\")[\"embedding_mean\"].mean()\n",
    "plt.figure(figsize=(7,4))\n",
    "means.plot(kind=\"bar\", color=\"royalblue\")\n",
    "plt.ylabel(\"Media de tokens codificados\")\n",
    "plt.title(\"Promedio de codificación por categoría BETO\")\n",
    "plt.show()"
   ]
  },
  {
   "cell_type": "code",
   "execution_count": 46,
   "id": "14e3309b",
   "metadata": {},
   "outputs": [
    {
     "name": "stdout",
     "output_type": "stream",
     "text": [
      "\n",
      "🧠 ANÁLISIS SPRINT 2\n",
      "-------------------\n",
      "En esta fase se analizó el corpus político peruano con el modelo BETO,\n",
      "identificando diferencias en la representación numérica entre categorías\n",
      "retóricas (logos, ad hominem, framing binario, retórica vacía).\n",
      "\n",
      "Los resultados muestran que las categorías con carga emocional\n",
      "presentan una mayor dispersión de tokens, lo cual justifica el\n",
      "entrenamiento supervisado en el Sprint 3.\n",
      "\n",
      "✅ Conclusión:\n",
      "Se confirmó la calidad del corpus y la viabilidad de usar BETO\n",
      "para clasificación retórica en español político.\n",
      "\n"
     ]
    }
   ],
   "source": [
    "# ------------------------------------------------------\n",
    "# 8️⃣ Reflexión metodológica (de acuerdo con la PPT)\n",
    "# ------------------------------------------------------\n",
    "print(\"\"\"\n",
    "🧠 ANÁLISIS SPRINT 2\n",
    "-------------------\n",
    "En esta fase se analizó el corpus político peruano con el modelo BETO,\n",
    "identificando diferencias en la representación numérica entre categorías\n",
    "retóricas (logos, ad hominem, framing binario, retórica vacía).\n",
    "\n",
    "Los resultados muestran que las categorías con carga emocional\n",
    "presentan una mayor dispersión de tokens, lo cual justifica el\n",
    "entrenamiento supervisado en el Sprint 3.\n",
    "\n",
    "✅ Conclusión:\n",
    "Se confirmó la calidad del corpus y la viabilidad de usar BETO\n",
    "para clasificación retórica en español político.\n",
    "\"\"\")"
   ]
  },
  {
   "cell_type": "code",
   "execution_count": null,
   "id": "1513d468",
   "metadata": {},
   "outputs": [],
   "source": []
  }
 ],
 "metadata": {
  "kernelspec": {
   "display_name": "venv",
   "language": "python",
   "name": "python3"
  },
  "language_info": {
   "codemirror_mode": {
    "name": "ipython",
    "version": 3
   },
   "file_extension": ".py",
   "mimetype": "text/x-python",
   "name": "python",
   "nbconvert_exporter": "python",
   "pygments_lexer": "ipython3",
   "version": "3.12.10"
  }
 },
 "nbformat": 4,
 "nbformat_minor": 5
}
