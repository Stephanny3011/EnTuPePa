{
 "cells": [
  {
   "cell_type": "markdown",
   "id": "6619f732",
   "metadata": {},
   "source": [
    "# Testeando a BETITO"
   ]
  },
  {
   "cell_type": "code",
   "execution_count": 2,
   "id": "60ad1d80",
   "metadata": {},
   "outputs": [],
   "source": [
    "from transformers import AutoTokenizer, AutoModelForSequenceClassification, pipeline\n",
    "\n",
    "# Carga desde carpeta local\n",
    "modelo_path = \"./modelo_beto_gpu\"\n",
    "tokenizer = AutoTokenizer.from_pretrained(modelo_path)\n",
    "model = AutoModelForSequenceClassification.from_pretrained(modelo_path)\n",
    "\n",
    "# Creamos un pipeline para clasificación de texto\n",
    "clasificador = pipeline(\"text-classification\", model=model, tokenizer=tokenizer)\n"
   ]
  },
  {
   "cell_type": "code",
   "execution_count": 1,
   "id": "3a1fd2e3",
   "metadata": {},
   "outputs": [],
   "source": [
    "def predecir_texto(texto):\n",
    "    resultado = clasificador(texto, truncation=True)[0]\n",
    "    label = resultado['label']\n",
    "    score = resultado['score']\n",
    "    print(f\"🔎 Texto: {texto}\")\n",
    "    print(f\"📌 Clase predicha: {label} con probabilidad {score:.2f}\")\n"
   ]
  },
  {
   "cell_type": "code",
   "execution_count": 6,
   "id": "c0afc346",
   "metadata": {},
   "outputs": [],
   "source": [
    "from transformers import pipeline\n",
    "\n",
    "clasificador = pipeline(\n",
    "    \"text-classification\",\n",
    "    model=\"./modelo_beto_gpu\",\n",
    "    tokenizer=\"./modelo_beto_gpu\"\n",
    ")\n"
   ]
  },
  {
   "cell_type": "code",
   "execution_count": 7,
   "id": "1da9389e",
   "metadata": {},
   "outputs": [],
   "source": [
    "label_map = {\n",
    "   \"LABEL_0\": \"Ataque personal (ad_hominem)\",\n",
    "    \"LABEL_1\": \"Narrativa polarizante (framing_binario)\",\n",
    "    \"LABEL_2\": \"Argumento con evidencia (logos)\",\n",
    "    \"LABEL_3\": \"Frase Vacia (retorica_vacia)\"\n",
    "}\n",
    "\n",
    "def predecir_texto(texto):\n",
    "    resultado = clasificador(texto, truncation=True)[0]\n",
    "    label = resultado['label']\n",
    "    score = resultado['score']\n",
    "    print(f\"📌 Texto: {texto}\")\n",
    "    print(f\"📢 Clase: {label_map.get(label, label)} (Prob: {score:.2f})\")\n"
   ]
  },
  {
   "cell_type": "code",
   "execution_count": 8,
   "id": "b0151218",
   "metadata": {},
   "outputs": [
    {
     "name": "stdout",
     "output_type": "stream",
     "text": [
      "📌 Texto: El pueblo merece una nueva constitución, justa y participativa.\n",
      "📢 Clase: Narrativa polarizante (framing_binario) (Prob: 0.80)\n",
      "📌 Texto:  Redicemos la pobreza en un 8%\n",
      "📢 Clase: Frase Vacia (retorica_vacia) (Prob: 0.65)\n",
      "📌 Texto: Lima sera potencia mundial.\n",
      "📢 Clase: Narrativa polarizante (framing_binario) (Prob: 0.87)\n",
      "📌 Texto: No mas pobres en un pais rico.\n",
      "📢 Clase: Narrativa polarizante (framing_binario) (Prob: 0.57)\n"
     ]
    }
   ],
   "source": [
    "predecir_texto(\"El pueblo merece una nueva constitución, justa y participativa.\")\n",
    "predecir_texto(\" Redicemos la pobreza en un 8%\")\n",
    "predecir_texto(\"Lima sera potencia mundial.\")\n",
    "predecir_texto(\"No mas pobres en un pais rico.\")\n"
   ]
  },
  {
   "cell_type": "code",
   "execution_count": 9,
   "id": "8fc3b057",
   "metadata": {},
   "outputs": [
    {
     "name": "stdout",
     "output_type": "stream",
     "text": [
      "📌 Texto: Reduciremos la pobreza en un 8%\n",
      "📢 Clase: Narrativa polarizante (framing_binario) (Prob: 0.59)\n",
      "📌 Texto: Lima sera potencia mundial.\n",
      "📢 Clase: Narrativa polarizante (framing_binario) (Prob: 0.87)\n",
      "📌 Texto: No mas pobres en un pais rico.\n",
      "📢 Clase: Narrativa polarizante (framing_binario) (Prob: 0.57)\n"
     ]
    }
   ],
   "source": [
    "predecir_texto(\"Reduciremos la pobreza en un 8%\")\n",
    "predecir_texto(\"Lima sera potencia mundial.\")\n",
    "predecir_texto(\"No mas pobres en un pais rico.\")"
   ]
  }
 ],
 "metadata": {
  "kernelspec": {
   "display_name": "beto_gpu",
   "language": "python",
   "name": "python3"
  },
  "language_info": {
   "codemirror_mode": {
    "name": "ipython",
    "version": 3
   },
   "file_extension": ".py",
   "mimetype": "text/x-python",
   "name": "python",
   "nbconvert_exporter": "python",
   "pygments_lexer": "ipython3",
   "version": "3.10.11"
  }
 },
 "nbformat": 4,
 "nbformat_minor": 5
}
